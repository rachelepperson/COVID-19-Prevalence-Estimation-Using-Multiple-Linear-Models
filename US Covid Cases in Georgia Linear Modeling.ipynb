{
 "cells": [
  {
   "cell_type": "markdown",
   "metadata": {},
   "source": [
    "# Covid Linear Modeling\n",
    "Rachel Epperson 1/21/2021"
   ]
  },
  {
   "cell_type": "markdown",
   "metadata": {},
   "source": [
    "## Import Needed Packages "
   ]
  },
  {
   "cell_type": "code",
   "execution_count": null,
   "metadata": {},
   "outputs": [],
   "source": [
    "## Import Needed Packages -- Linear Regression ##\n",
    "import pandas as pd\n",
    "import numpy as np\n",
    "import matplotlib.pyplot as plt\n",
    "from datetime import datetime, timedelta\n",
    "from sklearn.linear_model import LinearRegression\n",
    "from matplotlib.pyplot import figure\n",
    "\n",
    "## Import Needed Packages -- Autoregression ##\n",
    "from statsmodels.tsa.ar_model import AutoReg\n",
    "import statsmodels.api as sm\n",
    "\n",
    "## Import Needed Packages -- ARMA ##\n",
    "from statsmodels.tsa.arima.model import ARIMA\n",
    "from pandas import DataFrame\n",
    "\n",
    "## Import Needed Packages -- ARIMA ##\n",
    "from sklearn.metrics import mean_squared_error\n",
    "from math import sqrt"
   ]
  },
  {
   "cell_type": "markdown",
   "metadata": {},
   "source": [
    "### Name & Call Excel Sheet "
   ]
  },
  {
   "cell_type": "code",
   "execution_count": null,
   "metadata": {
    "scrolled": true
   },
   "outputs": [],
   "source": [
    "## Dataframe with COVID data ##\n",
    "covid_excel_info = pd.read_csv('us_states_covid19_daily.csv')\n",
    "covid_excel_info.head()"
   ]
  },
  {
   "cell_type": "markdown",
   "metadata": {},
   "source": [
    "### Separate Georgia from Rest of Data"
   ]
  },
  {
   "cell_type": "code",
   "execution_count": null,
   "metadata": {},
   "outputs": [],
   "source": [
    "## Separating Georgia Info from Other States ##\n",
    "Georgia_ind = covid_excel_info['state'] == 'GA'#find all rows with Georgia Info\n",
    "Georgia_df = covid_excel_info[Georgia_ind] #pull out and separate"
   ]
  },
  {
   "cell_type": "markdown",
   "metadata": {},
   "source": [
    "### Convert the Dates in the Dataframe to \"Datetime\" Objects"
   ]
  },
  {
   "cell_type": "code",
   "execution_count": null,
   "metadata": {},
   "outputs": [],
   "source": [
    "## Cases: Dates as string (from int) ##\n",
    "Georgia_date = Georgia_df['date'].astype(str) #change interger dates to strings\n",
    "Georgia_date = [ datetime(year=int(i[0:4]), month=int(i[4:6]), day=int(i[6:8])) for i in Georgia_date ]  #make a datetime object\n",
    "Georgia_df['date'] = Georgia_date #writing over original 'date' to updated dates"
   ]
  },
  {
   "cell_type": "markdown",
   "metadata": {},
   "source": [
    "### Removing Empting Values in Excel Columns"
   ]
  },
  {
   "cell_type": "code",
   "execution_count": null,
   "metadata": {},
   "outputs": [],
   "source": [
    "## Remove Empty Cells ##\n",
    "Georgia_df['positive'].dropna() #delete all rows w/ 'positive' column that read no data \"NaN\""
   ]
  },
  {
   "cell_type": "markdown",
   "metadata": {},
   "source": [
    "### Calculate Delta Days from Datetime Objects ##"
   ]
  },
  {
   "cell_type": "code",
   "execution_count": null,
   "metadata": {},
   "outputs": [],
   "source": [
    "## Convert Date Objects to deltaDays ## \n",
    "dates_series = list(Georgia_df['date']) #make lsit\n",
    "Georgia_df['deltaDays'] = [ (d - dates_series[-1]).days for d in dates_series ] #iterate through to calculate delta days\n",
    "Georgia_df = Georgia_df.sort_values(by = ['deltaDays']) #sort deltaDays starting at 0"
   ]
  },
  {
   "cell_type": "markdown",
   "metadata": {},
   "source": [
    "### Plotting actual COVID cases in GA"
   ]
  },
  {
   "cell_type": "code",
   "execution_count": null,
   "metadata": {},
   "outputs": [],
   "source": [
    "## Creating X and y ##\n",
    "X = Georgia_df['deltaDays'].values.reshape(-1,1) #change in days #fitting to model\n",
    "y = Georgia_df['positive'] #number of positives in each state (also column)\n",
    "print(len(X))\n",
    "\n",
    "## Ploting X vs. y for Actual Data Line -- Divided by 1000 for Aestheics##\n",
    "figure(figsize=(10, 5), dpi=80)\n",
    "plt.plot(X[0:222],y[0:222]/1000, color =  'blue', label = 'Training Data Set')\n",
    "plt.plot(X[222:len(X)],y[222:len(X)]/1000, color =  'green', label = 'Testing Data Set')\n",
    "plt.axvline(222, color = 'black')\n",
    "\n",
    "## Title Labeling ##\n",
    "plt.title(\"Real COVID-19 Cases in Georgia\", fontsize=20) \n",
    "\n",
    "## Axis Labeling ##\n",
    "plt.xlabel(\"Days\", fontsize = 16) \n",
    "plt.ylabel(\"#Positive (x1000)\", fontsize = 16) \n",
    "plt.legend(fontsize = 16)\n",
    "plt.show()"
   ]
  },
  {
   "cell_type": "markdown",
   "metadata": {},
   "source": [
    "## Linear Regression\n"
   ]
  },
  {
   "cell_type": "code",
   "execution_count": null,
   "metadata": {},
   "outputs": [],
   "source": [
    "X = Georgia_df['deltaDays'].values.reshape(-1,1)\n",
    "# all positive cases #\n",
    "positiveCases = Georgia_df['positive'].values"
   ]
  },
  {
   "cell_type": "markdown",
   "metadata": {},
   "source": [
    "### TrainTest Split"
   ]
  },
  {
   "cell_type": "code",
   "execution_count": null,
   "metadata": {},
   "outputs": [],
   "source": [
    "size = int(len(y) * 0.8) #80% of data\n",
    "y_train, y_test = positiveCases[0:size], positiveCases[size:len(y)]\n",
    "\n",
    "X_train, X_test = X[0:size], X[size:len(y)]"
   ]
  },
  {
   "cell_type": "markdown",
   "metadata": {},
   "source": [
    "### Train Model"
   ]
  },
  {
   "cell_type": "code",
   "execution_count": null,
   "metadata": {},
   "outputs": [],
   "source": [
    "model_fit = LinearRegression().fit(X_train, y_train)"
   ]
  },
  {
   "cell_type": "markdown",
   "metadata": {},
   "source": [
    "### Evaluate Model"
   ]
  },
  {
   "cell_type": "code",
   "execution_count": null,
   "metadata": {},
   "outputs": [],
   "source": [
    "y_test_predict = model_fit.predict(X_test)"
   ]
  },
  {
   "cell_type": "markdown",
   "metadata": {},
   "source": [
    "### Plot"
   ]
  },
  {
   "cell_type": "code",
   "execution_count": null,
   "metadata": {
    "scrolled": false
   },
   "outputs": [],
   "source": [
    "# Quilt rows and columns ##\n",
    "nCols=2\n",
    "nRows=1\n",
    "## Spacers ##\n",
    "wspace= 0.5\n",
    "hspace= 0\n",
    "## Quilt width and height ##\n",
    "figsize_x = 10+(wspace*nCols)\n",
    "figsize_y = 5*(nRows/nCols)+(hspace*nRows)\n",
    "\n",
    "## Plot Grid ##\n",
    "fig, ax = plt.subplots(nrows=nRows, ncols=nCols, figsize=(figsize_x, figsize_y),\n",
    "gridspec_kw = {'wspace':wspace, 'hspace':hspace})\n",
    "\n",
    "## Testing Line: #Real vs. Predicted ##\n",
    "ax[0].plot(X_test, y_test/1000, color = 'green');\n",
    "## Real Data Line##\n",
    "ax[0].plot(X[size:len(X)], positiveCases[size:len(X)]/1000, color = 'blue', alpha = 0.5)\n",
    "## Title ##\n",
    "ax[0].set_title('%s'% ('ULR Forecast Line Plot'), fontsize=20, color='black');\n",
    "## Axes ##\n",
    "ax[0].set_xlabel('%s'% ('Days'), fontsize=16, color='black');\n",
    "ax[0].set_ylabel('%s'% ('#Positive (x1000)'), fontsize=16, color='black');\n",
    "ax[0].legend(['Predicted', 'Actual'])\n",
    "\n",
    "## Residual: #Positive vs. Date ##\n",
    "residuals = y_test_predict - y_test\n",
    "ax[1].plot(X[size:len(X)], residuals/1000, color = 'red' );\n",
    "## Title ##\n",
    "ax[1].set_title('%s'% ('ULR Fit Residual Error Line Plot'), fontsize=20, color='black');\n",
    "## Axes ##\n",
    "ax[1].set_xlabel('%s'% ('Days'), fontsize=16, color='black');\n",
    "ax[1].set_ylabel('%s'% ('#Positive (x1000)'), fontsize=16, color='black');\n",
    "ax[1].legend(['adj. R² = 0.9566'])"
   ]
  },
  {
   "cell_type": "markdown",
   "metadata": {},
   "source": [
    "### Plot only Residual"
   ]
  },
  {
   "cell_type": "code",
   "execution_count": null,
   "metadata": {},
   "outputs": [],
   "source": [
    "figure(figsize=(10, 5), dpi=80)\n",
    "plt.plot(X[size:len(X)], residuals/1000, color = 'red' )\n",
    "plt.title('%s'% ('ULR Fit Residual Error Line Plot'), fontsize=20, color='black')\n",
    "plt.xlabel('%s'% ('Days'), fontsize=16, color='black')\n",
    "plt.ylabel('%s'% ('#Positive (x1000)'), fontsize=16, color='black')\n",
    "plt.legend(['adj. R² = 0.9566'], prop={'size': 16})"
   ]
  },
  {
   "cell_type": "markdown",
   "metadata": {},
   "source": [
    "### Adjusted R2 Value LR"
   ]
  },
  {
   "cell_type": "code",
   "execution_count": null,
   "metadata": {},
   "outputs": [],
   "source": [
    "1 - (1-model_fit.score(X, y))*(len(y)-1)/(len(y)-X.shape[1]-1)"
   ]
  },
  {
   "cell_type": "markdown",
   "metadata": {},
   "source": [
    "### Equation Substitutions"
   ]
  },
  {
   "cell_type": "code",
   "execution_count": null,
   "metadata": {
    "scrolled": true
   },
   "outputs": [],
   "source": [
    "print(model_fit.coef_)\n",
    "print(model_fit.intercept_)"
   ]
  },
  {
   "cell_type": "markdown",
   "metadata": {},
   "source": [
    "## Autoregession"
   ]
  },
  {
   "cell_type": "code",
   "execution_count": null,
   "metadata": {
    "scrolled": false
   },
   "outputs": [],
   "source": [
    "X = Georgia_df['deltaDays'].values.reshape(-1,1)\n",
    "# all positive cases #\n",
    "positiveCases = Georgia_df['positive'].values"
   ]
  },
  {
   "cell_type": "markdown",
   "metadata": {},
   "source": [
    "### TrainTest Split"
   ]
  },
  {
   "cell_type": "code",
   "execution_count": null,
   "metadata": {},
   "outputs": [],
   "source": [
    "size = int(len(y) * 0.8) #80% of data\n",
    "y_train, y_test = positiveCases[0:size], positiveCases[size:len(y)]\n",
    "\n",
    "X_train, X_test = X[0:size], X[size:len(y)]"
   ]
  },
  {
   "cell_type": "markdown",
   "metadata": {},
   "source": [
    "### Train Model"
   ]
  },
  {
   "cell_type": "code",
   "execution_count": null,
   "metadata": {},
   "outputs": [],
   "source": [
    "model = AutoReg(y_test, lags = 1)\n",
    "model_fit_AR = model.fit()"
   ]
  },
  {
   "cell_type": "markdown",
   "metadata": {},
   "source": [
    "### Evalute Model"
   ]
  },
  {
   "cell_type": "code",
   "execution_count": null,
   "metadata": {},
   "outputs": [],
   "source": [
    "y_test_predict_AR = model_fit_AR.predict()"
   ]
  },
  {
   "cell_type": "markdown",
   "metadata": {},
   "source": [
    "### Plot"
   ]
  },
  {
   "cell_type": "code",
   "execution_count": null,
   "metadata": {},
   "outputs": [],
   "source": [
    "# Quilt rows and columns ##\n",
    "nCols=2\n",
    "nRows=1\n",
    "## Spacers ##\n",
    "wspace= 0.5\n",
    "hspace= 0\n",
    "## Quilt width and height ##\n",
    "figsize_x = 10+(wspace*nCols)\n",
    "figsize_y = 5*(nRows/nCols)+(hspace*nRows)\n",
    "\n",
    "## Plot Grid ##\n",
    "fig, ax = plt.subplots(nrows=nRows, ncols=nCols, figsize=(figsize_x, figsize_y),\n",
    "gridspec_kw = {'wspace':wspace, 'hspace':hspace})\n",
    "\n",
    "## Testing Line: #Real vs. Predicted ##\n",
    "ax[0].plot(X_test, y_test/1000, color = 'green');\n",
    "## Real Data Line##\n",
    "ax[0].plot(X[size:len(X)], positiveCases[size:len(X)]/1000, color = 'blue', alpha = 0.5)\n",
    "## Title ##\n",
    "ax[0].set_title('%s'% ('AR Forecast Line Plot'), fontsize=20, color='black');\n",
    "## Axes ##\n",
    "ax[0].set_xlabel('%s'% ('Days'), fontsize=16, color='black');\n",
    "ax[0].set_ylabel('%s'% ('#Positive (x1000)'), fontsize=16, color='black');\n",
    "ax[0].legend(['Predicted', 'Actual'])\n",
    "\n",
    "## Residual: #Positive vs. Date ##\n",
    "residuals = y_test_predict_AR - y_test[1:]\n",
    "ax[1].plot(X[size + 1:len(X)], residuals/1000, color = 'red' );\n",
    "## Title ##\n",
    "ax[1].set_title('%s'% ('AR Fit Residual Error Line Plot'), fontsize=20, color='black');\n",
    "## Axes ##\n",
    "ax[1].set_xlabel('%s'% ('Days'), fontsize=16, color='black');\n",
    "ax[1].set_ylabel('%s'% ('#Positive (x1000)'), fontsize=16, color='black');\n",
    "ax[1].legend(['adj. R² = 0.9995'])"
   ]
  },
  {
   "cell_type": "markdown",
   "metadata": {},
   "source": [
    "### Plot only Residuals"
   ]
  },
  {
   "cell_type": "code",
   "execution_count": null,
   "metadata": {},
   "outputs": [],
   "source": [
    "figure(figsize=(10, 5), dpi=80)\n",
    "residuals = y_test_predict_AR - y_test[1:]\n",
    "plt.plot(X[size + 1:len(X)], residuals/1000, color = 'red')\n",
    "plt.title('%s'% ('AR Fit Residual Error Line Plot'), fontsize=20, color='black')\n",
    "plt.xlabel('%s'% ('Days'), fontsize=16, color='black')\n",
    "plt.ylabel('%s'% ('#Positive (x1000)'), fontsize=16, color='black')\n",
    "plt.legend(['adj. R² = 0.9995'], prop={'size': 16})"
   ]
  },
  {
   "cell_type": "markdown",
   "metadata": {},
   "source": [
    "### Equation Substitutions AR"
   ]
  },
  {
   "cell_type": "code",
   "execution_count": null,
   "metadata": {
    "scrolled": false
   },
   "outputs": [],
   "source": [
    "print(model_fit_AR.summary())"
   ]
  },
  {
   "cell_type": "markdown",
   "metadata": {},
   "source": [
    "### Adjusted R2 Value AR"
   ]
  },
  {
   "cell_type": "code",
   "execution_count": null,
   "metadata": {
    "scrolled": true
   },
   "outputs": [],
   "source": [
    "model = sm.OLS(y_test_predict_AR, X[size+1:len(X)]).fit()\n",
    "print(model.rsquared_adj)"
   ]
  },
  {
   "cell_type": "markdown",
   "metadata": {},
   "source": [
    "## ARMA"
   ]
  },
  {
   "cell_type": "code",
   "execution_count": null,
   "metadata": {},
   "outputs": [],
   "source": [
    "X = Georgia_df['deltaDays'].values.reshape(-1,1)\n",
    "# all positive cases #\n",
    "positiveCases = Georgia_df['positive'].values"
   ]
  },
  {
   "cell_type": "markdown",
   "metadata": {},
   "source": [
    "### TrainTest Split"
   ]
  },
  {
   "cell_type": "code",
   "execution_count": null,
   "metadata": {},
   "outputs": [],
   "source": [
    "size = int(len(y) * 0.8) #80% of data\n",
    "y_train, y_test = positiveCases[0:size], positiveCases[size:len(y)]\n",
    "\n",
    "X_train, X_test = X[0:size], X[size:len(y)]"
   ]
  },
  {
   "cell_type": "markdown",
   "metadata": {},
   "source": [
    "### Train Data"
   ]
  },
  {
   "cell_type": "code",
   "execution_count": null,
   "metadata": {},
   "outputs": [],
   "source": [
    "model = ARIMA(y_test, order = (1, 0, 1))\n",
    "model_fit_ARMA = model.fit()"
   ]
  },
  {
   "cell_type": "markdown",
   "metadata": {},
   "source": [
    "### Evaluate Data"
   ]
  },
  {
   "cell_type": "code",
   "execution_count": null,
   "metadata": {},
   "outputs": [],
   "source": [
    "y_test_predict_ARMA = model_fit_ARMA.predict()"
   ]
  },
  {
   "cell_type": "markdown",
   "metadata": {},
   "source": [
    "### Plot"
   ]
  },
  {
   "cell_type": "code",
   "execution_count": null,
   "metadata": {
    "scrolled": true
   },
   "outputs": [],
   "source": [
    "# Quilt rows and columns ##\n",
    "nCols=2\n",
    "nRows=1\n",
    "## Spacers ##\n",
    "wspace= 0.5\n",
    "hspace= 0\n",
    "## Quilt width and height ##\n",
    "figsize_x = 10+(wspace*nCols)\n",
    "figsize_y = 5*(nRows/nCols)+(hspace*nRows)\n",
    "\n",
    "## Plot Grid ##\n",
    "fig, ax = plt.subplots(nrows=nRows, ncols=nCols, figsize=(figsize_x, figsize_y),\n",
    "gridspec_kw = {'wspace':wspace, 'hspace':hspace})\n",
    "\n",
    "## Testing Line: #Real vs. Predicted ##\n",
    "ax[0].plot(X_test, y_test/1000, color = 'green');\n",
    "## Real Data Line##\n",
    "ax[0].plot(X[size:len(X)], positiveCases[size:len(X)]/1000, color = 'blue', alpha = 0.5)\n",
    "## Title ##\n",
    "ax[0].set_title('%s'% ('ARMA Forecast Line Plot'), fontsize=20, color='black');\n",
    "## Axes ##\n",
    "ax[0].set_xlabel('%s'% ('Days'), fontsize=16, color='black');\n",
    "ax[0].set_ylabel('%s'% ('#Positive (x1000)'), fontsize=16, color='black');\n",
    "ax[0].legend(['Predicted', 'Actual'])\n",
    "\n",
    "## Residual: #Positive vs. Date ##\n",
    "residuals = y_test_predict_ARMA - y_test\n",
    "ax[1].plot(X[size + 1:len(X)], residuals[1:]/1000, color = 'red' );\n",
    "## Title ##\n",
    "ax[1].set_title('%s'% ('ARMA Fit Residual Error Line Plot'), fontsize=20, color='black');\n",
    "## Axes ##\n",
    "ax[1].set_xlabel('%s'% ('Days'), fontsize=16, color='black');\n",
    "ax[1].set_ylabel('%s'% ('#Positive (x1000)'), fontsize=16, color='black');\n",
    "ax[1].legend(['adj. R² = 0.9993'])"
   ]
  },
  {
   "cell_type": "markdown",
   "metadata": {},
   "source": [
    "### Plot only Residuals"
   ]
  },
  {
   "cell_type": "code",
   "execution_count": null,
   "metadata": {},
   "outputs": [],
   "source": [
    "figure(figsize=(10, 5), dpi=80)\n",
    "residuals = y_test_predict_ARMA - y_test\n",
    "plt.plot(X[size + 1:len(X)], residuals[1:]/1000, color = 'red')\n",
    "plt.title('%s'% ('ARMA Fit Residual Error Line Plot'), fontsize=20, color='black')\n",
    "plt.xlabel('%s'% ('Days'), fontsize=16, color='black')\n",
    "plt.ylabel('%s'% ('#Positive (x1000)'), fontsize=16, color='black')\n",
    "plt.legend(['adj. R² = 0.9993'], prop={'size': 16})"
   ]
  },
  {
   "cell_type": "markdown",
   "metadata": {},
   "source": [
    "### Equation Substitutions ARMA"
   ]
  },
  {
   "cell_type": "code",
   "execution_count": null,
   "metadata": {
    "scrolled": true
   },
   "outputs": [],
   "source": [
    "print(model_fit_ARMA.summary())"
   ]
  },
  {
   "cell_type": "markdown",
   "metadata": {},
   "source": [
    "### Adjusted R2 Value ARMA"
   ]
  },
  {
   "cell_type": "code",
   "execution_count": null,
   "metadata": {},
   "outputs": [],
   "source": [
    "model = sm.OLS(y_test_predict_ARMA, X[size:len(X)]).fit()\n",
    "print(model.rsquared_adj) #adjusted R^2 val"
   ]
  },
  {
   "cell_type": "markdown",
   "metadata": {},
   "source": [
    "## ARIMA"
   ]
  },
  {
   "cell_type": "code",
   "execution_count": null,
   "metadata": {},
   "outputs": [],
   "source": [
    "X = Georgia_df['deltaDays'].values.reshape(-1,1)\n",
    "# all positive cases #\n",
    "positiveCases = Georgia_df['positive'].values"
   ]
  },
  {
   "cell_type": "markdown",
   "metadata": {},
   "source": [
    "### TrainTest Split"
   ]
  },
  {
   "cell_type": "code",
   "execution_count": null,
   "metadata": {},
   "outputs": [],
   "source": [
    "size = int(len(y) * 0.8) #80% of data\n",
    "y_train, y_test = positiveCases[0:size], positiveCases[size:len(y)]\n",
    "\n",
    "X_train, X_test = X[0:size], X[size:len(y)]"
   ]
  },
  {
   "cell_type": "markdown",
   "metadata": {},
   "source": [
    "### Train Data"
   ]
  },
  {
   "cell_type": "code",
   "execution_count": null,
   "metadata": {},
   "outputs": [],
   "source": [
    "model = ARIMA(y_test, order = (1, 1, 1))\n",
    "model_fit_ARIMA = model.fit()"
   ]
  },
  {
   "cell_type": "markdown",
   "metadata": {},
   "source": [
    "### Evaluate Data"
   ]
  },
  {
   "cell_type": "code",
   "execution_count": null,
   "metadata": {},
   "outputs": [],
   "source": [
    "y_test_predict_ARIMA = model_fit_ARIMA.predict()"
   ]
  },
  {
   "cell_type": "markdown",
   "metadata": {},
   "source": [
    "### Plot"
   ]
  },
  {
   "cell_type": "code",
   "execution_count": null,
   "metadata": {},
   "outputs": [],
   "source": [
    "# Quilt rows and columns ##\n",
    "nCols=2\n",
    "nRows=1\n",
    "## Spacers ##\n",
    "wspace= 0.5\n",
    "hspace= 0\n",
    "## Quilt width and height ##\n",
    "figsize_x = 10+(wspace*nCols)\n",
    "figsize_y = 5*(nRows/nCols)+(hspace*nRows)\n",
    "\n",
    "## Plot Grid ##\n",
    "fig, ax = plt.subplots(nrows=nRows, ncols=nCols, figsize=(figsize_x, figsize_y),\n",
    "gridspec_kw = {'wspace':wspace, 'hspace':hspace})\n",
    "\n",
    "## Testing Line: #Real vs. Predicted ##\n",
    "ax[0].plot(X_test, y_test/1000, color = 'green');\n",
    "## Real Data Line##\n",
    "ax[0].plot(X[size:len(X)], positiveCases[size:len(X)]/1000, color = 'blue', alpha = 0.5)\n",
    "## Title ##\n",
    "ax[0].set_title('%s'% ('ARIMA Forecast Line Plot'), fontsize=20, color='black');\n",
    "## Axes ##\n",
    "ax[0].set_xlabel('%s'% ('Days'), fontsize=16, color='black');\n",
    "ax[0].set_ylabel('%s'% ('#Positive (x1000)'), fontsize=16, color='black');\n",
    "ax[0].legend(['Predicted', 'Actual'])\n",
    "\n",
    "## Residual: #Positive vs. Date ##\n",
    "residuals = y_test_predict_ARIMA - y_test\n",
    "ax[1].plot(X[size + 1:len(X)], residuals[1:]/1000, color = 'red' );\n",
    "## Title ##\n",
    "ax[1].set_title('%s'% ('ARIMA Fit Residual Error Line Plot'), fontsize=20, color='black');\n",
    "## Axes ##\n",
    "ax[1].set_xlabel('%s'% ('Days'), fontsize=16, color='black');\n",
    "ax[1].set_ylabel('%s'% ('#Positive (x1000)'), fontsize=16, color='black');\n",
    "ax[1].legend(['adj. R² = 0.9852'])"
   ]
  },
  {
   "cell_type": "markdown",
   "metadata": {},
   "source": [
    "### Plot only Residuals"
   ]
  },
  {
   "cell_type": "code",
   "execution_count": null,
   "metadata": {},
   "outputs": [],
   "source": [
    "figure(figsize=(10, 5), dpi=80)\n",
    "residuals = y_test_predict_ARIMA - y_test\n",
    "plt.plot(X[size + 1:len(X)], residuals[1:]/1000, color = 'red')\n",
    "plt.title('%s'% ('ARIMA Fit Residual Error Line Plot'), fontsize=20, color='black')\n",
    "plt.xlabel('%s'% ('Days'), fontsize=16, color='black')\n",
    "plt.ylabel('%s'% ('#Positive (x1000)'), fontsize=16, color='black')\n",
    "plt.legend(['adj. R² = 0.9852'], prop={'size': 16})"
   ]
  },
  {
   "cell_type": "markdown",
   "metadata": {},
   "source": [
    "### Equation Substitutions ARIMA"
   ]
  },
  {
   "cell_type": "code",
   "execution_count": null,
   "metadata": {},
   "outputs": [],
   "source": [
    "print(model_fit_ARIMA.summary())"
   ]
  },
  {
   "cell_type": "markdown",
   "metadata": {},
   "source": [
    "### Adjusted R2 Value ARIMA"
   ]
  },
  {
   "cell_type": "code",
   "execution_count": null,
   "metadata": {
    "scrolled": false
   },
   "outputs": [],
   "source": [
    "model = sm.OLS(y_test_predict_ARIMA, X[size:len(X)]).fit()\n",
    "print(model.rsquared_adj) #adjusted R^2 val"
   ]
  }
 ],
 "metadata": {
  "kernelspec": {
   "display_name": "Python 3",
   "language": "python",
   "name": "python3"
  },
  "language_info": {
   "codemirror_mode": {
    "name": "ipython",
    "version": 3
   },
   "file_extension": ".py",
   "mimetype": "text/x-python",
   "name": "python",
   "nbconvert_exporter": "python",
   "pygments_lexer": "ipython3",
   "version": "3.8.5"
  }
 },
 "nbformat": 4,
 "nbformat_minor": 4
}
